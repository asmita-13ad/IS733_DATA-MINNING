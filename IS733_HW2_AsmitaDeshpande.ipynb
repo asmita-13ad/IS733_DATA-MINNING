{
 "cells": [
  {
   "cell_type": "code",
   "execution_count": 1,
   "id": "1f4728a8",
   "metadata": {},
   "outputs": [],
   "source": [
    "import pandas as pd\n",
    "import numpy as np\n",
    "import pandas as pp\n",
    "from ydata_profiling import ProfileReport"
   ]
  },
  {
   "cell_type": "code",
   "execution_count": 2,
   "id": "d48c0f27",
   "metadata": {},
   "outputs": [],
   "source": [
    "# Read in red-wine.csv as a pandas dataframe\n",
    "df = pd.read_csv('/Users/asmitadeshpande/Documents/red_wine.csv')\n",
    "df1 = pd.read_csv('/Users/asmitadeshpande/Documents/white_wine.csv')"
   ]
  },
  {
   "cell_type": "code",
   "execution_count": 3,
   "id": "8cfd9fac",
   "metadata": {},
   "outputs": [],
   "source": [
    "#Create a profile report\n",
    "profile = ProfileReport(df)\n"
   ]
  },
  {
   "cell_type": "code",
   "execution_count": 4,
   "id": "1038e320",
   "metadata": {},
   "outputs": [
    {
     "data": {
      "application/vnd.jupyter.widget-view+json": {
       "model_id": "1167b20db4a04d10903cfd4731b16561",
       "version_major": 2,
       "version_minor": 0
      },
      "text/plain": [
       "Summarize dataset:   0%|          | 0/5 [00:00<?, ?it/s]"
      ]
     },
     "metadata": {},
     "output_type": "display_data"
    },
    {
     "data": {
      "application/vnd.jupyter.widget-view+json": {
       "model_id": "c2bda7d14b264adbaa0b8a064c44739f",
       "version_major": 2,
       "version_minor": 0
      },
      "text/plain": [
       "Generate report structure:   0%|          | 0/1 [00:00<?, ?it/s]"
      ]
     },
     "metadata": {},
     "output_type": "display_data"
    },
    {
     "data": {
      "application/vnd.jupyter.widget-view+json": {
       "model_id": "17587108af954c5bb7bef7e32a4e922e",
       "version_major": 2,
       "version_minor": 0
      },
      "text/plain": [
       "Render HTML:   0%|          | 0/1 [00:00<?, ?it/s]"
      ]
     },
     "metadata": {},
     "output_type": "display_data"
    },
    {
     "data": {
      "application/vnd.jupyter.widget-view+json": {
       "model_id": "fe4f9cad6a8b463095441c358e0157bd",
       "version_major": 2,
       "version_minor": 0
      },
      "text/plain": [
       "Export report to file:   0%|          | 0/1 [00:00<?, ?it/s]"
      ]
     },
     "metadata": {},
     "output_type": "display_data"
    }
   ],
   "source": [
    "# Save the report as an HTML file\n",
    "profile.to_file(\"red-wine.html\")"
   ]
  },
  {
   "cell_type": "code",
   "execution_count": 5,
   "id": "19d32077",
   "metadata": {},
   "outputs": [
    {
     "data": {
      "application/vnd.jupyter.widget-view+json": {
       "model_id": "4633fee84cd04c52a45776b3f01e464d",
       "version_major": 2,
       "version_minor": 0
      },
      "text/plain": [
       "Export report to file:   0%|          | 0/1 [00:00<?, ?it/s]"
      ]
     },
     "metadata": {},
     "output_type": "display_data"
    }
   ],
   "source": [
    "#convert to html\n",
    "profile.to_file(\"Profiling.html\")"
   ]
  },
  {
   "cell_type": "code",
   "execution_count": 6,
   "id": "07243ddb",
   "metadata": {},
   "outputs": [
    {
     "name": "stdout",
     "output_type": "stream",
     "text": [
      "Logestic Regression \n",
      "\n",
      "training accuracy : 0.7844611528822055 \n",
      "\n",
      "testing accuracy : 0.7906976744186046 \n",
      "\n",
      "AUC score :  0.8828938471940501\n"
     ]
    }
   ],
   "source": [
    "\n",
    "from sklearn.linear_model import LogisticRegression\n",
    "from sklearn.model_selection import train_test_split\n",
    "from sklearn import preprocessing, metrics\n",
    "\n",
    "x = df.iloc[:, :-1].values\n",
    "y = df.iloc[:, -1].values\n",
    "\n",
    "x_train, x_test, y_train, y_test = train_test_split(x, y, test_size=0.3, random_state=0)\n",
    "regr = LogisticRegression()\n",
    "regr.fit(x_train, y_train)\n",
    "\n",
    "y_pred_proba = regr.predict_proba(x_test)[::,1]\n",
    "auclr = metrics.roc_auc_score(y_test, y_pred_proba)\n",
    "\n",
    "print(\"Logestic Regression\", \"\\n\")\n",
    "print(\"training accuracy :\", regr.score(x_train, y_train), \"\\n\")\n",
    "print(\"testing accuracy :\", regr.score(x_test, y_test), \"\\n\")\n",
    "print(\"AUC score : \",  auclr)"
   ]
  },
  {
   "cell_type": "code",
   "execution_count": 7,
   "id": "f68056b6",
   "metadata": {},
   "outputs": [
    {
     "name": "stdout",
     "output_type": "stream",
     "text": [
      "Accuracy 0.8608695652173913\n"
     ]
    }
   ],
   "source": [
    "\n",
    "from sklearn.naive_bayes import GaussianNB\n",
    "x_train, x_test, y_train, y_test = train_test_split(x, y, test_size=0.2, random_state=0)\n",
    "model = GaussianNB()\n",
    "model.fit(x_train, y_train)\n",
    "a = model.score(x_test, y_test)\n",
    "print(\"Accuracy\", a)\n"
   ]
  },
  {
   "cell_type": "code",
   "execution_count": 8,
   "id": "6caab8b3",
   "metadata": {},
   "outputs": [
    {
     "name": "stdout",
     "output_type": "stream",
     "text": [
      "AUC score :  0.9202678027997565\n"
     ]
    }
   ],
   "source": [
    "y_pred_proba = model.predict_proba(x_test)[::,1]\n",
    "auclr = metrics.roc_auc_score(y_test, y_pred_proba)\n",
    "print(\"AUC score : \",  auclr)"
   ]
  },
  {
   "cell_type": "code",
   "execution_count": 9,
   "id": "f2694b0c",
   "metadata": {},
   "outputs": [
    {
     "name": "stdout",
     "output_type": "stream",
     "text": [
      "Accuracy 0.8\n"
     ]
    }
   ],
   "source": [
    "\n",
    "from sklearn.tree import DecisionTreeClassifier\n",
    "model = DecisionTreeClassifier(random_state=0)\n",
    "model.fit(x_train, y_train)\n",
    "y_pred = model.predict(x_test)\n",
    "from sklearn.metrics import accuracy_score\n",
    "score = accuracy_score(y_pred, y_test)\n",
    "print(\"Accuracy\", score)"
   ]
  },
  {
   "cell_type": "code",
   "execution_count": 10,
   "id": "32515065",
   "metadata": {},
   "outputs": [
    {
     "name": "stdout",
     "output_type": "stream",
     "text": [
      "AUC score :  0.7967133292757153\n"
     ]
    }
   ],
   "source": [
    "y_pred_proba = model.predict_proba(x_test)[::,1]\n",
    "auclr = metrics.roc_auc_score(y_test, y_pred_proba)\n",
    "print(\"AUC score : \",  auclr)"
   ]
  },
  {
   "cell_type": "code",
   "execution_count": 11,
   "id": "53a532e1",
   "metadata": {},
   "outputs": [
    {
     "name": "stdout",
     "output_type": "stream",
     "text": [
      "Accuracy Score: 0.8260869565217391\n",
      "Area under the ROC curve : 0.898661\n"
     ]
    }
   ],
   "source": [
    "\n",
    "from sklearn.svm import SVC\n",
    "from sklearn.metrics import roc_curve, auc\n",
    "\n",
    "x = df.iloc[:, :-1].values\n",
    "y = df.iloc[:, -1].values\n",
    "\n",
    "from sklearn.preprocessing import LabelEncoder\n",
    "labelencoder = LabelEncoder()\n",
    "\n",
    "y = labelencoder.fit_transform(y)\n",
    "x_train, x_test, y_train, y_test = train_test_split(x, y, test_size=0.2, random_state=0)\n",
    "\n",
    "\n",
    "# Run classifier\n",
    "classifier = SVC(kernel='linear', probability=True)\n",
    "probas_ = classifier.fit(x_train, y_train).predict_proba(x_test)\n",
    "\n",
    "rf_y_pred = classifier.predict(x_test)\n",
    "print('Accuracy Score:', accuracy_score(y_test, rf_y_pred))\n",
    "\n",
    "fpr, tpr, thresholds = roc_curve(y_test, probas_[:, 1])\n",
    "roc_auc = auc(fpr, tpr)\n",
    "print(\"Area under the ROC curve : %f\" % roc_auc)"
   ]
  },
  {
   "cell_type": "code",
   "execution_count": null,
   "id": "d5ca3bc5",
   "metadata": {},
   "outputs": [
    {
     "name": "stdout",
     "output_type": "stream",
     "text": [
      "Accuracy Score: 0.8608695652173913\n"
     ]
    }
   ],
   "source": [
    "\n",
    "import matplotlib\n",
    "matplotlib.use('TkAgg')\n",
    "from sklearn.ensemble import RandomForestClassifier\n",
    "from matplotlib import pyplot as plt\n",
    "from sklearn.metrics import RocCurveDisplay\n",
    "\n",
    "rf_model = RandomForestClassifier(max_depth=10, max_features=3, max_samples=0.4, n_estimators=50)\n",
    "rf_model.fit(x_train, y_train)\n",
    "\n",
    "rf_y_pred = rf_model.predict(x_test)\n",
    "print('Accuracy Score:', accuracy_score(y_test, rf_y_pred))\n",
    "\n",
    "ax = plt.gca()\n",
    "rfc_disp = RocCurveDisplay.from_estimator(rf_model, x_test, y_test, ax=ax, alpha=0.8)\n",
    "rfc_disp.plot\n",
    "plt.show()"
   ]
  },
  {
   "cell_type": "code",
   "execution_count": null,
   "id": "8bcaf419",
   "metadata": {},
   "outputs": [],
   "source": []
  }
 ],
 "metadata": {
  "kernelspec": {
   "display_name": "Python 3 (ipykernel)",
   "language": "python",
   "name": "python3"
  },
  "language_info": {
   "codemirror_mode": {
    "name": "ipython",
    "version": 3
   },
   "file_extension": ".py",
   "mimetype": "text/x-python",
   "name": "python",
   "nbconvert_exporter": "python",
   "pygments_lexer": "ipython3",
   "version": "3.10.9"
  }
 },
 "nbformat": 4,
 "nbformat_minor": 5
}
