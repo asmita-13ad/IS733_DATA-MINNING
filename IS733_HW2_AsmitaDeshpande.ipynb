{
 "cells": [
  {
   "cell_type": "code",
   "execution_count": 1,
   "id": "1434d9a9",
   "metadata": {},
   "outputs": [],
   "source": [
    "import pandas as pd\n",
    "import numpy as np\n",
    "import pandas as pp\n",
    "from ydata_profiling import ProfileReport"
   ]
  },
  {
   "cell_type": "code",
   "execution_count": 2,
   "id": "65f5f70d",
   "metadata": {},
   "outputs": [],
   "source": [
    "# Read in red-wine.csv as a pandas dataframe\n",
    "df = pd.read_csv('/Users/asmitadeshpande/Documents/red_wine.csv')\n",
    "df1 = pd.read_csv('/Users/asmitadeshpande/Documents/white_wine.csv')"
   ]
  },
  {
   "cell_type": "code",
   "execution_count": 3,
   "id": "a5e6678c",
   "metadata": {},
   "outputs": [],
   "source": [
    "#Create a profile report\n",
    "profile = ProfileReport(df)\n"
   ]
  },
  {
   "cell_type": "code",
   "execution_count": 4,
   "id": "1bc16ed8",
   "metadata": {},
   "outputs": [
    {
     "data": {
      "application/vnd.jupyter.widget-view+json": {
       "model_id": "2424aa9106af412eb3812f850ddbe8ef",
       "version_major": 2,
       "version_minor": 0
      },
      "text/plain": [
       "Summarize dataset:   0%|          | 0/5 [00:00<?, ?it/s]"
      ]
     },
     "metadata": {},
     "output_type": "display_data"
    },
    {
     "data": {
      "application/vnd.jupyter.widget-view+json": {
       "model_id": "24d32f9e3de44ff6a17d17800b89e873",
       "version_major": 2,
       "version_minor": 0
      },
      "text/plain": [
       "Generate report structure:   0%|          | 0/1 [00:00<?, ?it/s]"
      ]
     },
     "metadata": {},
     "output_type": "display_data"
    },
    {
     "data": {
      "application/vnd.jupyter.widget-view+json": {
       "model_id": "1c6c17167c714add858792bfd2b12372",
       "version_major": 2,
       "version_minor": 0
      },
      "text/plain": [
       "Render HTML:   0%|          | 0/1 [00:00<?, ?it/s]"
      ]
     },
     "metadata": {},
     "output_type": "display_data"
    },
    {
     "data": {
      "application/vnd.jupyter.widget-view+json": {
       "model_id": "38db326d73a543afbac5f05b85515d5d",
       "version_major": 2,
       "version_minor": 0
      },
      "text/plain": [
       "Export report to file:   0%|          | 0/1 [00:00<?, ?it/s]"
      ]
     },
     "metadata": {},
     "output_type": "display_data"
    }
   ],
   "source": [
    "# Save the report as an HTML file\n",
    "profile.to_file(\"red-wine.html\")"
   ]
  },
  {
   "cell_type": "code",
   "execution_count": 5,
   "id": "9390377f",
   "metadata": {},
   "outputs": [
    {
     "data": {
      "application/vnd.jupyter.widget-view+json": {
       "model_id": "2a6b84b5843241b19b126d97e0588bc0",
       "version_major": 2,
       "version_minor": 0
      },
      "text/plain": [
       "Export report to file:   0%|          | 0/1 [00:00<?, ?it/s]"
      ]
     },
     "metadata": {},
     "output_type": "display_data"
    }
   ],
   "source": [
    "#convert to html\n",
    "profile.to_file(\"Profiling.html\")"
   ]
  },
  {
   "cell_type": "code",
   "execution_count": 6,
   "id": "a59f46dd",
   "metadata": {},
   "outputs": [
    {
     "name": "stdout",
     "output_type": "stream",
     "text": [
      "Logestic Regression \n",
      "\n",
      "training accuracy : 0.7844611528822055 \n",
      "\n",
      "testing accuracy : 0.7906976744186046 \n",
      "\n",
      "AUC score :  0.8828938471940501\n"
     ]
    }
   ],
   "source": [
    "\n",
    "from sklearn.linear_model import LogisticRegression\n",
    "from sklearn.model_selection import train_test_split\n",
    "from sklearn import preprocessing, metrics\n",
    "\n",
    "x = df.iloc[:, :-1].values\n",
    "y = df.iloc[:, -1].values\n",
    "\n",
    "x_train, x_test, y_train, y_test = train_test_split(x, y, test_size=0.3, random_state=0)\n",
    "regr = LogisticRegression()\n",
    "regr.fit(x_train, y_train)\n",
    "\n",
    "y_pred_proba = regr.predict_proba(x_test)[::,1]\n",
    "auclr = metrics.roc_auc_score(y_test, y_pred_proba)\n",
    "\n",
    "print(\"Logestic Regression\", \"\\n\")\n",
    "print(\"training accuracy :\", regr.score(x_train, y_train), \"\\n\")\n",
    "print(\"testing accuracy :\", regr.score(x_test, y_test), \"\\n\")\n",
    "print(\"AUC score : \",  auclr)"
   ]
  },
  {
   "cell_type": "code",
   "execution_count": 7,
   "id": "839d3502",
   "metadata": {},
   "outputs": [
    {
     "name": "stdout",
     "output_type": "stream",
     "text": [
      "Accuracy 0.8608695652173913\n"
     ]
    }
   ],
   "source": [
    "\n",
    "from sklearn.naive_bayes import GaussianNB\n",
    "x_train, x_test, y_train, y_test = train_test_split(x, y, test_size=0.2, random_state=0)\n",
    "model = GaussianNB()\n",
    "model.fit(x_train, y_train)\n",
    "a = model.score(x_test, y_test)\n",
    "print(\"Accuracy\", a)\n"
   ]
  },
  {
   "cell_type": "code",
   "execution_count": 8,
   "id": "30145a3d",
   "metadata": {},
   "outputs": [
    {
     "name": "stdout",
     "output_type": "stream",
     "text": [
      "AUC score :  0.9202678027997565\n"
     ]
    }
   ],
   "source": [
    "y_pred_proba = model.predict_proba(x_test)[::,1]\n",
    "auclr = metrics.roc_auc_score(y_test, y_pred_proba)\n",
    "print(\"AUC score : \",  auclr)"
   ]
  },
  {
   "cell_type": "code",
   "execution_count": 9,
   "id": "d931f340",
   "metadata": {},
   "outputs": [
    {
     "name": "stdout",
     "output_type": "stream",
     "text": [
      "Accuracy 0.8\n"
     ]
    }
   ],
   "source": [
    "\n",
    "from sklearn.tree import DecisionTreeClassifier\n",
    "model = DecisionTreeClassifier(random_state=0)\n",
    "model.fit(x_train, y_train)\n",
    "y_pred = model.predict(x_test)\n",
    "from sklearn.metrics import accuracy_score\n",
    "score = accuracy_score(y_pred, y_test)\n",
    "print(\"Accuracy\", score)"
   ]
  },
  {
   "cell_type": "code",
   "execution_count": 10,
   "id": "526814ba",
   "metadata": {},
   "outputs": [
    {
     "name": "stdout",
     "output_type": "stream",
     "text": [
      "AUC score :  0.7967133292757153\n"
     ]
    }
   ],
   "source": [
    "y_pred_proba = model.predict_proba(x_test)[::,1]\n",
    "auclr = metrics.roc_auc_score(y_test, y_pred_proba)\n",
    "print(\"AUC score : \",  auclr)"
   ]
  },
  {
   "cell_type": "code",
   "execution_count": 11,
   "id": "b9a1903f",
   "metadata": {},
   "outputs": [
    {
     "name": "stdout",
     "output_type": "stream",
     "text": [
      "Accuracy Score: 0.8260869565217391\n",
      "Area under the ROC curve : 0.898661\n"
     ]
    }
   ],
   "source": [
    "\n",
    "from sklearn.svm import SVC\n",
    "from sklearn.metrics import roc_curve, auc\n",
    "\n",
    "x = df.iloc[:, :-1].values\n",
    "y = df.iloc[:, -1].values\n",
    "\n",
    "from sklearn.preprocessing import LabelEncoder\n",
    "labelencoder = LabelEncoder()\n",
    "\n",
    "y = labelencoder.fit_transform(y)\n",
    "x_train, x_test, y_train, y_test = train_test_split(x, y, test_size=0.2, random_state=0)\n",
    "\n",
    "\n",
    "# Run classifier\n",
    "classifier = SVC(kernel='linear', probability=True)\n",
    "probas_ = classifier.fit(x_train, y_train).predict_proba(x_test)\n",
    "\n",
    "rf_y_pred = classifier.predict(x_test)\n",
    "print('Accuracy Score:', accuracy_score(y_test, rf_y_pred))\n",
    "\n",
    "fpr, tpr, thresholds = roc_curve(y_test, probas_[:, 1])\n",
    "roc_auc = auc(fpr, tpr)\n",
    "print(\"Area under the ROC curve : %f\" % roc_auc)"
   ]
  },
  {
   "cell_type": "code",
   "execution_count": 7,
   "id": "41d29f41",
   "metadata": {},
   "outputs": [
    {
     "name": "stdout",
     "output_type": "stream",
     "text": [
      "Accuracy Score: 0.9166666666666666\n"
     ]
    }
   ],
   "source": [
    "\n",
    "import matplotlib\n",
    "matplotlib.use('TkAgg')\n",
    "from sklearn.ensemble import RandomForestClassifier\n",
    "from sklearn.model_selection import train_test_split\n",
    "from sklearn import preprocessing, metrics\n",
    "from sklearn.metrics import accuracy_score\n",
    "from matplotlib import pyplot as plt\n",
    "from sklearn.metrics import RocCurveDisplay\n",
    "\n",
    "# Read in red-wine.csv as a pandas dataframe\n",
    "df = pd.read_csv('/Users/asmitadeshpande/Documents/red_wine.csv')\n",
    "df1 = pd.read_csv('/Users/asmitadeshpande/Documents/white_wine.csv')\n",
    "\n",
    "x1 = df1.iloc[:, :-1].values\n",
    "y1 = df1.iloc[:, -1].values\n",
    "\n",
    "x1_train, x1_test, y1_train, y1_test = train_test_split(x1, y1, test_size=0.3, random_state=0)\n",
    "\n",
    "from sklearn.metrics import RocCurveDisplay\n",
    "\n",
    "rf_model = RandomForestClassifier(max_depth=10, max_features=3, max_samples=0.4, n_estimators=50)\n",
    "rf_model.fit(x1_train, y1_train)\n",
    "\n",
    "rf_y1_pred = rf_model.predict(x1_test)\n",
    "print('Accuracy Score:', accuracy_score(y1_test, rf_y1_pred))\n",
    "\n",
    "ax = plt.gca()\n",
    "rfc_disp = RocCurveDisplay.from_estimator(rf_model, x1_test, y1_test, ax=ax, alpha=0.8)\n",
    "rfc_disp.plot\n",
    "plt.show()"
   ]
  },
  {
   "cell_type": "code",
   "execution_count": 3,
   "id": "962cafb9",
   "metadata": {},
   "outputs": [],
   "source": [
    "#Table of accuracy and AUC \n",
    "import pandas as pd\n",
    "data = {'Accuracy(%)': [52.8897,78.4588,79.335,82.4869,83.3625,78.634,85.289],\n",
    "       'AUC':[0.496,0.785,0.873,0.890,0.887,0.784,0.920]}\n",
    "df_table = pd.DataFrame(data,index=[\"ZeroR\",\"OneR\",\"LR\",\"NB\",\"DT\",\"SVM\",\"RF\"])"
   ]
  },
  {
   "cell_type": "code",
   "execution_count": 4,
   "id": "9270b45f",
   "metadata": {},
   "outputs": [
    {
     "data": {
      "text/html": [
       "<div>\n",
       "<style scoped>\n",
       "    .dataframe tbody tr th:only-of-type {\n",
       "        vertical-align: middle;\n",
       "    }\n",
       "\n",
       "    .dataframe tbody tr th {\n",
       "        vertical-align: top;\n",
       "    }\n",
       "\n",
       "    .dataframe thead th {\n",
       "        text-align: right;\n",
       "    }\n",
       "</style>\n",
       "<table border=\"1\" class=\"dataframe\">\n",
       "  <thead>\n",
       "    <tr style=\"text-align: right;\">\n",
       "      <th></th>\n",
       "      <th>Accuracy(%)</th>\n",
       "      <th>AUC</th>\n",
       "    </tr>\n",
       "  </thead>\n",
       "  <tbody>\n",
       "    <tr>\n",
       "      <th>ZeroR</th>\n",
       "      <td>52.8897</td>\n",
       "      <td>0.496</td>\n",
       "    </tr>\n",
       "    <tr>\n",
       "      <th>OneR</th>\n",
       "      <td>78.4588</td>\n",
       "      <td>0.785</td>\n",
       "    </tr>\n",
       "    <tr>\n",
       "      <th>LR</th>\n",
       "      <td>79.3350</td>\n",
       "      <td>0.873</td>\n",
       "    </tr>\n",
       "    <tr>\n",
       "      <th>NB</th>\n",
       "      <td>82.4869</td>\n",
       "      <td>0.890</td>\n",
       "    </tr>\n",
       "    <tr>\n",
       "      <th>DT</th>\n",
       "      <td>83.3625</td>\n",
       "      <td>0.887</td>\n",
       "    </tr>\n",
       "    <tr>\n",
       "      <th>SVM</th>\n",
       "      <td>78.6340</td>\n",
       "      <td>0.784</td>\n",
       "    </tr>\n",
       "    <tr>\n",
       "      <th>RF</th>\n",
       "      <td>85.2890</td>\n",
       "      <td>0.920</td>\n",
       "    </tr>\n",
       "  </tbody>\n",
       "</table>\n",
       "</div>"
      ],
      "text/plain": [
       "       Accuracy(%)    AUC\n",
       "ZeroR      52.8897  0.496\n",
       "OneR       78.4588  0.785\n",
       "LR         79.3350  0.873\n",
       "NB         82.4869  0.890\n",
       "DT         83.3625  0.887\n",
       "SVM        78.6340  0.784\n",
       "RF         85.2890  0.920"
      ]
     },
     "execution_count": 4,
     "metadata": {},
     "output_type": "execute_result"
    }
   ],
   "source": [
    "df_table"
   ]
  },
  {
   "cell_type": "code",
   "execution_count": null,
   "id": "8359e31c",
   "metadata": {},
   "outputs": [],
   "source": []
  },
  {
   "cell_type": "code",
   "execution_count": null,
   "id": "11c9622a",
   "metadata": {},
   "outputs": [],
   "source": []
  }
 ],
 "metadata": {
  "kernelspec": {
   "display_name": "Python 3 (ipykernel)",
   "language": "python",
   "name": "python3"
  },
  "language_info": {
   "codemirror_mode": {
    "name": "ipython",
    "version": 3
   },
   "file_extension": ".py",
   "mimetype": "text/x-python",
   "name": "python",
   "nbconvert_exporter": "python",
   "pygments_lexer": "ipython3",
   "version": "3.10.9"
  }
 },
 "nbformat": 4,
 "nbformat_minor": 5
}
